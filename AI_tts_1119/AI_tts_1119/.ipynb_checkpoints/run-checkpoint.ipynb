{
 "cells": [
  {
   "cell_type": "code",
   "execution_count": null,
   "id": "2cb1d942-7072-4203-94ba-45b1e5c44c4d",
   "metadata": {},
   "outputs": [],
   "source": [
    "!pip install -r https://raw.githubusercontent.com/nvidia-riva/python-clients/main/requirements.txt\n",
    "!pip install --force-reinstall git+https://github.com/nvidia-riva/python-clients.git\n",
    "#!pip install --upgrade streamlit\n",
    "!git clone https://github.com/nvidia-riva/python-clients.git"
   ]
  },
  {
   "cell_type": "code",
   "execution_count": 18,
   "id": "8eabd6f5-b552-4924-9cb2-9014d93e103d",
   "metadata": {},
   "outputs": [
    {
     "data": {
      "application/vnd.jupyter.widget-view+json": {
       "model_id": "970ee2e2f2ea43cb9b47f88f9ca0af4f",
       "version_major": 2,
       "version_minor": 0
      },
      "text/plain": [
       "VBox(children=(HTML(value='\\n                <div style=\"font-size:18px; font-weight:bold; color:#000000; padd…"
      ]
     },
     "metadata": {},
     "output_type": "display_data"
    }
   ],
   "source": [
    "from text_apps import TTSApp\n",
    "\n",
    "app = TTSApp()\n",
    "app.display()\n"
   ]
  },
  {
   "cell_type": "code",
   "execution_count": null,
   "id": "24617f94-0a05-43f8-8929-e8fe553ca872",
   "metadata": {},
   "outputs": [],
   "source": []
  }
 ],
 "metadata": {
  "kernelspec": {
   "display_name": "Python 3 (ipykernel)",
   "language": "python",
   "name": "python3"
  },
  "language_info": {
   "codemirror_mode": {
    "name": "ipython",
    "version": 3
   },
   "file_extension": ".py",
   "mimetype": "text/x-python",
   "name": "python",
   "nbconvert_exporter": "python",
   "pygments_lexer": "ipython3",
   "version": "3.12.4"
  }
 },
 "nbformat": 4,
 "nbformat_minor": 5
}
