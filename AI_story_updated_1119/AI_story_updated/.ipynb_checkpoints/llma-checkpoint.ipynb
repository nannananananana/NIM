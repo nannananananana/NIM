{
 "cells": [
  {
   "cell_type": "code",
   "execution_count": null,
   "id": "22b82ea1-0efa-41d9-a5e0-aaa3aa752712",
   "metadata": {},
   "outputs": [],
   "source": [
    "from story_app import StoryApp\n",
    "\n",
    "app = StoryApp()\n",
    "app.display()\n",
    "\n",
    "#pip install --upgrade notebook ipywidgets\n",
    "#pip install widgetsnbextension\n",
    "#通过shift+enter开启的你的新奇之旅吧！"
   ]
  },
  {
   "cell_type": "code",
   "execution_count": null,
   "id": "16c351af-6a10-4ef9-a5c8-224f76404259",
   "metadata": {},
   "outputs": [],
   "source": []
  },
  {
   "cell_type": "code",
   "execution_count": null,
   "id": "4cfed991-c7a3-45b2-aaae-83a043b207fc",
   "metadata": {},
   "outputs": [],
   "source": []
  }
 ],
 "metadata": {
  "kernelspec": {
   "display_name": "Python 3 (ipykernel)",
   "language": "python",
   "name": "python3"
  },
  "language_info": {
   "codemirror_mode": {
    "name": "ipython",
    "version": 3
   },
   "file_extension": ".py",
   "mimetype": "text/x-python",
   "name": "python",
   "nbconvert_exporter": "python",
   "pygments_lexer": "ipython3",
   "version": "3.12.4"
  }
 },
 "nbformat": 4,
 "nbformat_minor": 5
}
