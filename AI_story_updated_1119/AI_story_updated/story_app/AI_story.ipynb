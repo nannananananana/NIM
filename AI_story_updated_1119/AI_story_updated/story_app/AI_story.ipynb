{
 "cells": [
  {
   "cell_type": "markdown",
   "id": "51b21a64-66f4-4d68-831a-06dc50c8b940",
   "metadata": {
    "tags": []
   },
   "source": [
    "# 大语言模型（LLM）学生体验 Demo - AI story\n",
    "\n",
    "## 1. 体验内容介绍\n",
    "\n",
    "在这个体验中，我们将通过大语言模型（LLM）生成不同主题的故事。我们预设了10个场景，分别是：\n",
    "\n",
    "- 冒险\n",
    "- 奇幻\n",
    "- 科幻\n",
    "- 悬疑\n",
    "- 恐怖\n",
    "- 历史\n",
    "- 爱情\n",
    "- 神秘\n",
    "- 职场\n",
    "- 禁忌\n",
    "\n",
    "希望通过不同主题的故事风格，你能对 LLM 的生成能力有一个初步的体验。\n",
    "\n",
    "## 2. 大语言模型介绍\n",
    "\n",
    "本次体验将包括两个大语言模型，分别是 `llama3-8b` 和 `mistral-7b`。以下是这两个模型的中文描述：\n",
    "\n",
    "### Llama 3-8b\n",
    "\n",
    "Llama 3 是一个大型语言 AI 模型，包含一系列能够根据提示生成文本和代码的模型。Meta 开发并发布了 Meta Llama 3 系列大型语言模型（LLMs），这是一系列预训练和指令微调的生成文本模型，有 8B 和 70B 两种规模。标记数量仅指预训练数据。8B 和 70B 版本都使用 Grouped-Query Attention (GQA) 来提高推理的可扩展性。Llama 3 指令微调模型针对对话用例进行了优化，在许多常见的行业基准测试中优于许多可用的开源聊天模型。此外，在开发这些模型时，我们非常注重优化有用性和安全性。\n",
    "\n",
    "### Mistral-7b\n",
    "\n",
    "Mistral-7B-Instruct-v0.3 是一个能够遵循指令、完成请求和生成创意文本格式的语言模型。它是 Mistral-7B-v0.3 生成文本模型的指令版本，使用多种公开可用的对话数据集进行了微调。\n",
    "\n",
    "我们希望通过选择不同的模型，来体会不同模型的能力差异。\n",
    "\n",
    "## 3. 开始体验\n",
    "\n",
    "接下来是真正的体验环节！我们将使用 Jupyter Notebook 进行交互式体验。Jupyter 是一个流行的交互式体验工具，你将感受到它的简单易用、便捷和强大的功能。\n",
    "\n",
    "## 4. Jupyter 使用方法\n",
    "\n",
    "在 Jupyter Notebook 中，你可以通过执行代码块来运行代码。虽然 Jupyter 功能非常强大，但本次体验我们只需要学会执行代码块操作就足够了。如果你有兴趣，可以参考 [Jupyter 官方链接](https://jupyter.org/) 学习更多内容。\n",
    "\n",
    "### 如何执行代码块\n",
    "\n",
    "1. 点击代码块。\n",
    "2. 按下 `Shift + Enter` 键，代码块将会执行。"
   ]
  },
  {
   "cell_type": "code",
   "execution_count": 2,
   "id": "69f8e01c-8df4-49b7-8f69-502a160e880c",
   "metadata": {},
   "outputs": [
    {
     "name": "stdout",
     "output_type": "stream",
     "text": [
      "欢迎来到 LLM 体验之旅！\n"
     ]
    }
   ],
   "source": [
    "# 运行下面的代码块，开始你的 LLM 体验\n",
    "print(\"欢迎来到 LLM 体验之旅！\")"
   ]
  },
  {
   "cell_type": "markdown",
   "id": "15724704-eb4b-425d-8ff1-5efab2b7cc65",
   "metadata": {},
   "source": [
    "\n",
    "## 5. 真正的体验开始\n",
    "\n",
    "**注意：真正的体验开始了！** 尝试运行下面的代码块，你就会发现新大陆。"
   ]
  },
  {
   "cell_type": "code",
   "execution_count": 3,
   "id": "22b82ea1-0efa-41d9-a5e0-aaa3aa752712",
   "metadata": {},
   "outputs": [
    {
     "data": {
      "application/vnd.jupyter.widget-view+json": {
       "model_id": "5e32a68b4f964e73a02a25b0ab0bedf0",
       "version_major": 2,
       "version_minor": 0
      },
      "text/plain": [
       "VBox(children=(HTML(value='\\n                <div style=\"font-size:18px; font-weight:bold; color:#0526D0; padd…"
      ]
     },
     "metadata": {},
     "output_type": "display_data"
    }
   ],
   "source": [
    "from story_app import StoryApp\n",
    "\n",
    "app = StoryApp()\n",
    "app.display()\n",
    "\n",
    "# pip install --upgrade notebook ipywidgets\n",
    "# pip install widgetsnbextension\n",
    "# 通过shift+enter开启的你的新奇之旅吧！"
   ]
  },
  {
   "cell_type": "markdown",
   "id": "69e9b348-f713-4014-ba48-7f8817bffa53",
   "metadata": {},
   "source": [
    "## 6. 体验总结\n",
    "\n",
    "### 大语言模型（LLM）的局限性\n",
    "\n",
    "在体验过程中，你可能会发现不同模型生成的故事有所差异，这很正常。大语言模型（LLM）本身存在一些局限性，例如：\n",
    "\n",
    "- **数据集规模限制**：模型的表现受限于训练数据的规模和质量。\n",
    "- **模型参数量限制**：模型的参数量决定了其表达能力和复杂性，但也会影响推理速度和资源消耗。\n",
    "- **幻觉问题**：模型可能会生成看似合理但实际上不准确或不存在的信息。\n",
    "- **其他限制**：模型在处理特定任务时可能会有其他局限性，如对特定领域的理解不足等。\n",
    "\n",
    "### 生成式 AI 的其他强大能力\n",
    "\n",
    "除了生成故事，生成式 AI 还有许多其他强大的能力，例如：\n",
    "\n",
    "- **文本生成**：生成文章、诗歌、对话等。\n",
    "- **代码生成**：自动生成代码片段或完整的程序。\n",
    "- **图像生成**：根据文本描述生成图像。\n",
    "- **语音合成**：将文本转换为自然语音。\n",
    "- **数据增强**：生成用于训练和测试的数据集。\n",
    "\n",
    "### 感谢与愉快体验\n",
    "\n",
    "**感谢你的参与！** 希望你在本次 LLM 体验中感到愉快，并能对大语言模型（LLM）有一个更深入的了解。生成式 AI 的世界充满了无限可能，期待你在未来的学习和探索中继续发现更多精彩！\n"
   ]
  },
  {
   "cell_type": "code",
   "execution_count": null,
   "id": "1e2b89ca-4e87-4fd2-beb5-c62a2a99ab5d",
   "metadata": {},
   "outputs": [],
   "source": []
  }
 ],
 "metadata": {
  "kernelspec": {
   "display_name": "Python 3 (ipykernel)",
   "language": "python",
   "name": "python3"
  },
  "language_info": {
   "codemirror_mode": {
    "name": "ipython",
    "version": 3
   },
   "file_extension": ".py",
   "mimetype": "text/x-python",
   "name": "python",
   "nbconvert_exporter": "python",
   "pygments_lexer": "ipython3",
   "version": "3.10.4"
  }
 },
 "nbformat": 4,
 "nbformat_minor": 5
}
