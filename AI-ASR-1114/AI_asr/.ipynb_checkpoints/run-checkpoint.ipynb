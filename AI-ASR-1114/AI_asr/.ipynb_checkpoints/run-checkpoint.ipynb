{
 "cells": [
  {
   "cell_type": "markdown",
   "id": "e1d2c0c0-8e43-48cf-807a-dcd35fc91695",
   "metadata": {},
   "source": [
    "# 大语言模型（LLM）学生体验 Demo - Speech to Text\n",
    "\n",
    "## 1. 体验内容介绍\n",
    "今天，我们将带你体验一款由 NVIDIA NIM 驱动的语音转文字（ASR） DEMO。这款 DEMO 通过录制或选择预设的音频文件，将语音实时转化为文字，让你直观地体验到大语言模型在语音识别和文本生成方面的强大能力。\n",
    "\n",
    "不同于传统的语音识别系统，这款模型能够精准捕捉语音中的细微差异，并将其转化为流畅的文字。无论是说唱音乐、体育解说还是复杂的技术术语，模型都能高效地将语音内容转化为准确的文字。\n",
    "\n",
    "## 2. 大语言模型介绍\n",
    "本次体验的语音转文字模型是基于 Parakeet 和 NeMo 的 ASR 模型：\n",
    "\n",
    "Parakeet 是对会话式 AI 发展的一次重大突破，拥有卓越的识别准确率。结合 NeMo 框架的灵活性和易用性，开发者可以轻松创建更自然、直观的语音驱动应用。这不仅能提升虚拟助手的准确性，还能支持流畅的实时交流。无论是改进语音助手的识别率还是实现无缝的实时沟通，Parakeet 模型为语音识别应用开辟了更多的可能性。\n",
    "\n",
    "## 3. 开始体验\n",
    "接下来是正式的体验环节！我们将通过 Jupyter Notebook 进行交互式体验，让你直接参与语音转文字的过程。在这个平台上，你可以选择不同的音频文件，或通过录音按钮录制新的语音，然后点击转换按钮将语音转化为文字，并立即查看转写的效果。\n",
    "\n",
    "## 4. Jupyter 使用方法\n",
    "在 Jupyter Notebook 中，你可以通过执行代码块来运行代码，Jupyter 是一个功能强大且易用的交互式工具，本次体验的操作非常简便，只需几步即可完成。\n",
    "\n",
    "### 如何执行代码块：\n",
    "1. 点击代码块。\n",
    "2. 按下 Shift + Enter 键，代码块将会执行。准备好了吗？让我们一起来探索语音转文字模型的奥秘，感受技术带来的便利和创新！"
   ]
  },
  {
   "cell_type": "code",
   "execution_count": 3,
   "id": "434a072f-5b02-47ad-8e35-eba29b09440a",
   "metadata": {},
   "outputs": [
    {
     "data": {
      "application/vnd.jupyter.widget-view+json": {
       "model_id": "11ac4531ea704e66b00ce77110b05880",
       "version_major": 2,
       "version_minor": 0
      },
      "text/plain": [
       "VBox(children=(HTML(value='\\n                <div style=\"font-size:18px; font-weight:bold; color:#000000; padd…"
      ]
     },
     "metadata": {},
     "output_type": "display_data"
    }
   ],
   "source": [
    "from mic_apps import SpeechToTextApp\n",
    "\n",
    "app = SpeechToTextApp()\n",
    "app.display()\n",
    "# !pip install -r https://raw.githubusercontent.com/nvidia-riva/python-clients/main/requirements.txt\n",
    "# !pip install --force-reinstall git+https://github.com/nvidia-riva/python-clients.git\n",
    "# !git clone https://github.com/nvidia-riva/python-clients.git\n",
    "#使用shift+enter开启的你的新奇之旅吧！"
   ]
  },
  {
   "cell_type": "markdown",
   "id": "d406a888-11bb-45f0-976e-f7085a2eeeba",
   "metadata": {},
   "source": [
    "## 5. 语音转文字（ASR）体验总结\n",
    "\n",
    "### 通过本次体验，我们可以了解到：\n",
    "\n",
    "- **语音识别的精准度与适应性**\n",
    "：您会发现，ASR 系统能够准确识别各种音频内容，不论是带有口音的对话、快速的播报，还是嘈杂环境中的语音。ASR 模型的准确率直接影响到识别结果的质量，而高性能的 ASR 系统能够捕捉到细微的语音特征，将其转化为准确的文字输出。\n",
    "\n",
    "- **语音识别的多样应用**\n",
    "：ASR 系统在不同领域展现出广泛的应用潜力，例如智能语音助手、实时字幕、会议纪要生成等。本次体验展示了 ASR 模型在应对不同类型音频内容上的强大适应性，让您能够切身体验到它的实际应用效果。\n",
    "\n",
    "- **实时性和处理速度**\n",
    "：您会体验到 ASR 系统的实时性和响应速度。优质的 ASR 系统能够在短时间内快速完成语音转录，保证用户体验的流畅性。处理速度的提升使得语音识别技术在更多实时应用中具有可行性，如实时翻译和字幕生成。\n",
    "\n",
    "- **ASR 系统的多层次处理架构**\n",
    "：ASR 系统的处理流程通常包括音频预处理、特征提取、语言模型和解码等多个阶段。NeMo 框架赋予了模型高度的灵活性，使开发者能够轻松进行自定义和调优，以满足不同应用场景的需求。体验过程让我们更直观地理解了 ASR 系统是如何逐步将语音信号转化为准确的文字。\n",
    "\n",
    "### 感谢与愉快体验\n",
    "**感谢您的参与！** \n",
    "希望您在本次 ASR 体验中有所收获，对语音转文字技术有更深入的理解。生成式 AI 的领域充满着无限可能，期待您在未来的学习和探索中继续发现更多精彩应用！"
   ]
  },
  {
   "cell_type": "code",
   "execution_count": null,
   "id": "cbb57a6c-a9af-4fcf-936b-dec21e932140",
   "metadata": {},
   "outputs": [],
   "source": []
  }
 ],
 "metadata": {
  "kernelspec": {
   "display_name": "Python 3 (ipykernel)",
   "language": "python",
   "name": "python3"
  },
  "language_info": {
   "codemirror_mode": {
    "name": "ipython",
    "version": 3
   },
   "file_extension": ".py",
   "mimetype": "text/x-python",
   "name": "python",
   "nbconvert_exporter": "python",
   "pygments_lexer": "ipython3",
   "version": "3.12.4"
  }
 },
 "nbformat": 4,
 "nbformat_minor": 5
}
